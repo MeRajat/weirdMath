{
 "cells": [
  {
   "cell_type": "markdown",
   "metadata": {},
   "source": [
    "# Ограниченная линейная регрессия с помощью координатного спуска\n",
    "*Строим линейную регрессию с неотрицательными коэффициентами, используя только *```numpy```*!*"
   ]
  },
  {
   "cell_type": "markdown",
   "metadata": {},
   "source": [
    "Этот блокнот мотивирован задачей [неотрицательной линейной регрессии](http://en.wikipedia.org/wiki/Non-negative_least_squares). \n",
    "\n",
    "Обычно, когда вы строите линейную регрессию, вы позволяете коэффициентам быть какими угодно. Но иногда вы точно заранее знаете, что коэффициенты должны быть неотрицательны, есть тому физические или экономические причины. \n",
    "\n",
    "Например, в Альфа-Банке я строил модель вероятности дефолта на базе созданных кем-то экспертных правил (\"fraud-триггеров\"), которые были заранее размечены как позитивные и негативные. Все коэффициенты регрессии, которые таким ожиданиям не соответствуют, хочется занулять, а остальные - пересчитывать.  \n",
    "\n",
    "В таких случаях можно запариться и оценивать [байесовскую регрессию](http://en.wikipedia.org/wiki/Bayesian_linear_regression). Но если по каким-то причинам лень, можно решать обычную задачу МНК, потребовав, чтобы коэффифиценты были неотрицательные. "
   ]
  },
  {
   "cell_type": "markdown",
   "metadata": {},
   "source": [
    "Модель ```Lasso``` из ```scikit-learn``` уже может требовать неотрицательности коэфффициентов. Основана она на алгоритме [координатного спуска](https://en.wikipedia.org/wiki/Coordinate_descent). Мы можем реализовать его самостоятельно, используя покоординатный [метод Ньютона](http://en.wikipedia.org/wiki/Newton%27s_method_in_optimization). \n",
    "\n",
    "Работает метод Ньютона очень просто: для параболы $y=f(x)=ax^2+bx+c$ вершина находится в $\\frac{-b}{2a}$, и в эту вершину можно сразу шагать, чтобы прийти к оптимуму. \n",
    "\n",
    "Если функция $f(x)$ нелинейная, её можно разложить в ряд Тейлора $f(x)\\approx \\frac{f^{''}(x_0)}{2}(x-x_0)^2+f^{'}(x_0)(x-x_0)+f(x_0)$ в точке $x_0$, и попробовать шагнуть в точку $x_1 = x_0 - \\frac{f^{'}(x_0)}{f^{''}(x_0)}$. Там будет минимум параболы, но не факт, что минимум самой $f$. Не страшно! Повторим попытку из $x_1$, и рано или поздно мы доберёмся до максимума. Ну, а в задаче МНК $f$ действительно парабола, так что к оптимуму мы придём сразу. \n",
    "\n",
    "Если $x$ многомерная, то вместо $\\frac{f^{'}(x_0)}{f^{''}(x_0)}$ используется вектор $g_f(x_0)H^{-1}_f(x_0)$, где $g$ -вектор первых производных $f$, а $H$ - матрица вторых производных. \n",
    "\n",
    "Если бы в задаче не было ограничений, то $gH^{-1}$ мне было бы достаточно для счастья. Но делая такой шаг, можно выйти за ограничение. Поэтому я буду брать по одной координате, и идти в направлении $gH^{-1}$, пока не дойду до минимума по этой координате или до ограничения. Пройдя так через все координаты по нескольку раз, я обезательно дойду до оптимума. \n",
    "\n",
    "Вот пример модельки. Для простоты, я не включал в модель свободный член:"
   ]
  },
  {
   "cell_type": "code",
   "execution_count": 1,
   "metadata": {
    "collapsed": true
   },
   "outputs": [],
   "source": [
    "import numpy as np\n",
    "# генерируем данные - центрированную линейную регрессию\n",
    "np.random.seed(1)\n",
    "n = 1000\n",
    "X = np.random.normal(size=(n, 10))\n",
    "y = np.dot(X, [0,0,0,0,0,1,2,3,4,5]) + np.random.normal(size=n, scale=3) # я точно знаю, что истинные координаты неотрицательные"
   ]
  },
  {
   "cell_type": "markdown",
   "metadata": {},
   "source": [
    "Начнём с решения обычного МНК, ограничим его, и найдём оптимальные коэффициенты координатным спуском. \n",
    "\n",
    "Всё отрицательное стало нулевым, а положительное немножко под это подстроилось. "
   ]
  },
  {
   "cell_type": "code",
   "execution_count": 2,
   "metadata": {},
   "outputs": [
    {
     "name": "stdout",
     "output_type": "stream",
     "text": [
      "[-0.029 -0.043  0.05  -0.042 -0.09   0.834  1.947  3.177  4.091  5.138]\n",
      "[ 0.     0.     0.05   0.     0.     0.838  1.944  3.181  4.089  5.136]\n",
      "Wall time: 12 ms\n"
     ]
    }
   ],
   "source": [
    "%%time\n",
    "# начальное решение неограниченным МНК (часть координат отрицательные)\n",
    "beta = np.dot(np.linalg.inv(np.dot(X.transpose(),X)), np.dot(X.transpose(), y))\n",
    "print(beta.round(3))\n",
    "# запоминаем, где мы были на предыдущем шаге\n",
    "prev_beta = beta.copy()\n",
    "# ограничим решение нулём снизу\n",
    "beta = np.maximum(beta, 0)\n",
    "# запустим покоординатный метод Ньютона\n",
    "hessian = np.dot(X.transpose(), X) # это матрица всех вторых производных\n",
    "# крутим алгоритм, пока бета не перестанет меняться\n",
    "while not (np.abs(prev_beta - beta)<1e-20).all():\n",
    "    prev_beta = beta.copy()\n",
    "    for i in range(len(beta)):\n",
    "        gradient = np.dot(np.dot(X,beta)-y, X) # а это вектор всех первых производных\n",
    "        beta[i] = np.maximum(0, beta[i] - gradient[i] / hessian[i,i]) # обновление\n",
    "print(beta.round(3))"
   ]
  },
  {
   "cell_type": "markdown",
   "metadata": {},
   "source": [
    "Можно попытаться увеличить скорость алгоритма, рассчитывая не весь градиент, а только одну его координату за раз. В этом случае оказывается, что координатный спуск часто в несколько раз быстрее обычного градиентного спуска, которым обучают нейросети!\n",
    "\n",
    "С 10 координатами это сокращает время примерно на треть, но в более многомерном случае экономия была бы более существенной. \n",
    "\n",
    "Пробуем:"
   ]
  },
  {
   "cell_type": "code",
   "execution_count": 3,
   "metadata": {},
   "outputs": [
    {
     "name": "stdout",
     "output_type": "stream",
     "text": [
      "[-0.029 -0.043  0.05  -0.042 -0.09   0.834  1.947  3.177  4.091  5.138]\n",
      "[ 0.     0.     0.05   0.     0.     0.838  1.944  3.181  4.089  5.136]\n",
      "Wall time: 8 ms\n"
     ]
    }
   ],
   "source": [
    "%%time\n",
    "beta = np.dot(np.linalg.inv(np.dot(X.transpose(),X)), np.dot(X.transpose(), y))\n",
    "print(beta.round(3))\n",
    "prev_beta = beta.copy()\n",
    "beta = np.maximum(beta, 0)\n",
    "hessian = np.dot(X.transpose(), X)\n",
    "resid = y - np.dot(X, beta)\n",
    "while not (np.abs(prev_beta - beta)<1e-20).all():\n",
    "    prev_beta = beta.copy()\n",
    "    for i in range(len(beta)):\n",
    "        derivative = np.dot(X[:,i], resid) / hessian[i,i]\n",
    "        prev = beta[i]\n",
    "        beta[i] = np.maximum(0, beta[i] + derivative)\n",
    "        resid += X[:,i] * (prev-beta[i])\n",
    "print(beta.round(3))"
   ]
  },
  {
   "cell_type": "markdown",
   "metadata": {},
   "source": [
    "Больше фактов, алгоритмов и ссылок есть в [презентации](http://www.cs.cmu.edu/~ggordon/10725-F12/slides/25-coord-desc.pdf) Тибширани, создателя Лассо-регрессии.\n",
    "\n",
    "Здесь же хочется нарисовать картинку для двумерного случая:"
   ]
  },
  {
   "cell_type": "code",
   "execution_count": 4,
   "metadata": {},
   "outputs": [
    {
     "name": "stdout",
     "output_type": "stream",
     "text": [
      "[ 1.019  4.908]\n"
     ]
    },
    {
     "data": {
      "image/png": "[encoded data removed]",
      "text/plain": [
       "<matplotlib.figure.Figure at 0x2120cc73748>"
      ]
     },
     "metadata": {},
     "output_type": "display_data"
    }
   ],
   "source": [
    "import matplotlib.pyplot as plt\n",
    "%matplotlib inline\n",
    "\n",
    "np.random.seed(1)\n",
    "n = 1000\n",
    "X = np.random.normal(size=(n, 2))\n",
    "X[:,0]+=X[:,1] * 0.7 # correlated X for more fun!\n",
    "y = np.dot(X, [1, 5]) + np.random.normal(size=n, scale=3)\n",
    "\n",
    "beta = np.array([-1, 1]).astype(float)\n",
    "prev_beta = beta + 1\n",
    "# improve the solution by restricted coordinate-wise Newton descent\n",
    "hessian = np.dot(X.transpose(), X)\n",
    "betas = [beta.copy()]\n",
    "while not (np.abs(prev_beta - beta)<1e-20).all():\n",
    "    prev_beta = beta.copy()\n",
    "    for i in range(len(beta)):\n",
    "        grad = np.dot(np.dot(X,beta) - y, X)\n",
    "        beta[i] = np.maximum(0, beta[i]-grad[i] / hessian[i,i])\n",
    "        betas.append(beta.copy())\n",
    "print(beta.round(3))\n",
    "betas_history = np.vstack(betas)\n",
    "\n",
    "h = 0.01\n",
    "xx, yy = np.meshgrid(np.arange(-2, 3, h), np.arange(0, 6, h))\n",
    "Z = np.mean((y[:, np.newaxis] - np.dot(X, np.vstack([xx.ravel(), yy.ravel()])))**2, axis=0)\n",
    "Z = Z.reshape(xx.shape)\n",
    "cm = plt.cm.RdBu\n",
    "plt.figure(figsize=(8, 5))\n",
    "plt.contourf(xx, yy, Z, cmap=cm, alpha=0.5, levels=[8, 8.55, 9, 10, 12, 16, 25, 40, 70])\n",
    "\n",
    "plt.plot(betas_history[:,0], betas_history[:,1], color='k', lw=1.2)\n",
    "plt.xlabel('Первый коэффициент')\n",
    "plt.ylabel('Второй коэффициент')\n",
    "plt.title('Координатный спуск кодится просто, а сходится быстро (:');"
   ]
  }
 ],
 "metadata": {
  "kernelspec": {
   "display_name": "Python 3",
   "language": "python",
   "name": "python3"
  },
  "language_info": {
   "codemirror_mode": {
    "name": "ipython",
    "version": 3
   },
   "file_extension": ".py",
   "mimetype": "text/x-python",
   "name": "python",
   "nbconvert_exporter": "python",
   "pygments_lexer": "ipython3",
   "version": "3.6.1"
  }
 },
 "nbformat": 4,
 "nbformat_minor": 2
}
