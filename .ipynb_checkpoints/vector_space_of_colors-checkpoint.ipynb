{
 "cells": [
  {
   "cell_type": "markdown",
   "metadata": {},
   "source": [
    "The goal of this notebook is to show that <b>RGB colors</b> can be represented by a <a href = 'https://en.wikipedia.org/wiki/Vector_space'>vector space</a>:\n",
    "* color_1 = color_2 = color_3 for any colors\n",
    "* a * color_1 = color_2 for any number a and any color  \n",
    "Operations of addition and multiplication have all the properties that we expect of them (such as existence of zero element).\n",
    "\n",
    "There is only one cheat here: we clipped every initial RGB representation into [0.001, 0.999] interval, to make computation stable. But theoretically, the open interval (0,1) would do!\n"
   ]
  },
  {
   "cell_type": "code",
   "execution_count": 4,
   "metadata": {
    "collapsed": false
   },
   "outputs": [],
   "source": [
    "%matplotlib inline"
   ]
  },
  {
   "cell_type": "code",
   "execution_count": 9,
   "metadata": {
    "collapsed": false
   },
   "outputs": [],
   "source": [
    "import numpy as np\n",
    "import matplotlib.pyplot as plt\n",
    "from matplotlib.colors import ColorConverter\n",
    "from  matplotlib.patches import Rectangle\n",
    "class ColorVector:\n",
    "    def __init__(self, r = 0.5, g = 0.5, b = 0.5):\n",
    "        if type(r) is str:\n",
    "            c = ColorConverter()\n",
    "            r, g, b = c.to_rgb(r)\n",
    "        self.set_color([r, g, b])\n",
    "    def __str__(self):\n",
    "        return 'Color with R={}, G={}, B={}'.format(self.r, self.g, self.b)\n",
    "    def logit(self, x):\n",
    "        return np.log(x)-np.log(1-x)\n",
    "    def invlogit(self, y):\n",
    "        return 1/(1+np.exp(-y))\n",
    "    def get_vector(self):\n",
    "        return np.array([self.logit(self.r), self.logit(self.g), self.logit(self.b)])\n",
    "    def set_vector(self, v):\n",
    "        self.r = self.invlogit(v[0])\n",
    "        self.g = self.invlogit(v[1])\n",
    "        self.b = self.invlogit(v[2])\n",
    "    def get_color(self):\n",
    "        return [self.r, self.g, self.b]\n",
    "    def set_color(self, color):\n",
    "        self.r = min(0.999, max(color[0], 0.001))\n",
    "        self.g = min(0.999, max(color[1], 0.001))\n",
    "        self.b = min(0.999, max(color[2], 0.001))\n",
    "    def copy(self):\n",
    "        return ColorVector(self.r, self.g, self.b)\n",
    "    def __add__(self, other):\n",
    "        v = ColorVector()\n",
    "        v.set_vector(self.get_vector() + other.get_vector())\n",
    "        return v\n",
    "    def __sub__(self, other):\n",
    "        v = ColorVector()\n",
    "        v.set_vector(self.get_vector() - other.get_vector())\n",
    "        return v\n",
    "    def __neg__(self):\n",
    "        v = ColorVector()\n",
    "        v.set_vector(-self.get_vector())\n",
    "        return v\n",
    "    def __mul__(self, n):\n",
    "        v = ColorVector()\n",
    "        v.set_vector(self.get_vector()*n)\n",
    "        return v\n",
    "    def show(self):\n",
    "        plt.figure(figsize = (0.5,0.5))\n",
    "        plt.axis('off')\n",
    "        currentAxis = plt.gca()\n",
    "        currentAxis.add_patch(Rectangle((0, 0), 1, 1, facecolor=self.get_color(), lw =0))"
   ]
  },
  {
   "cell_type": "code",
   "execution_count": 10,
   "metadata": {
    "collapsed": false
   },
   "outputs": [
    {
     "data": {
      "image/png": "[encoded data removed]",
      "text/plain": [
       "<matplotlib.figure.Figure at 0x244ddd54390>"
      ]
     },
     "metadata": {},
     "output_type": "display_data"
    },
    {
     "data": {
      "image/png": "[encoded data removed]",
      "text/plain": [
       "<matplotlib.figure.Figure at 0x244ddd54b70>"
      ]
     },
     "metadata": {},
     "output_type": "display_data"
    }
   ],
   "source": [
    "red = ColorVector('red')\n",
    "blue = ColorVector('blue')\n",
    "\n",
    "(red+blue).show()\n",
    "(red-blue).show()"
   ]
  },
  {
   "cell_type": "code",
   "execution_count": 11,
   "metadata": {
    "collapsed": false
   },
   "outputs": [
    {
     "data": {
      "image/png": "[encoded data removed]",
      "text/plain": [
       "<matplotlib.figure.Figure at 0x244de514da0>"
      ]
     },
     "metadata": {},
     "output_type": "display_data"
    },
    {
     "data": {
      "image/png": "[encoded data removed]",
      "text/plain": [
       "<matplotlib.figure.Figure at 0x244de514ef0>"
      ]
     },
     "metadata": {},
     "output_type": "display_data"
    }
   ],
   "source": [
    "(red*2).show()\n",
    "(red*0.0).show()"
   ]
  },
  {
   "cell_type": "code",
   "execution_count": 12,
   "metadata": {
    "collapsed": false
   },
   "outputs": [
    {
     "data": {
      "image/png": "[encoded data removed]",
      "text/plain": [
       "<matplotlib.figure.Figure at 0x244de527a20>"
      ]
     },
     "metadata": {},
     "output_type": "display_data"
    }
   ],
   "source": [
    "z=-red\n",
    "(-red).show()"
   ]
  },
  {
   "cell_type": "code",
   "execution_count": 13,
   "metadata": {
    "collapsed": false
   },
   "outputs": [
    {
     "data": {
      "image/png": "[encoded data removed]",
      "text/plain": [
       "<matplotlib.figure.Figure at 0x244ddfdd780>"
      ]
     },
     "metadata": {},
     "output_type": "display_data"
    }
   ],
   "source": [
    "x = ColorVector('pink')\n",
    "x.show()"
   ]
  },
  {
   "cell_type": "code",
   "execution_count": 14,
   "metadata": {
    "collapsed": false
   },
   "outputs": [
    {
     "data": {
      "image/png": "[encoded data removed]",
      "text/plain": [
       "<matplotlib.figure.Figure at 0x244de608978>"
      ]
     },
     "metadata": {},
     "output_type": "display_data"
    }
   ],
   "source": [
    "y=ColorVector('indigo')\n",
    "y.show()"
   ]
  },
  {
   "cell_type": "code",
   "execution_count": 15,
   "metadata": {
    "collapsed": false
   },
   "outputs": [
    {
     "data": {
      "image/png": "[encoded data removed]",
      "text/plain": [
       "<matplotlib.figure.Figure at 0x244de48f3c8>"
      ]
     },
     "metadata": {},
     "output_type": "display_data"
    }
   ],
   "source": [
    "(y+x+z).show()"
   ]
  },
  {
   "cell_type": "code",
   "execution_count": null,
   "metadata": {
    "collapsed": true
   },
   "outputs": [],
   "source": []
  }
 ],
 "metadata": {
  "kernelspec": {
   "display_name": "Python [Root]",
   "language": "python",
   "name": "Python [Root]"
  },
  "language_info": {
   "codemirror_mode": {
    "name": "ipython",
    "version": 3
   },
   "file_extension": ".py",
   "mimetype": "text/x-python",
   "name": "python",
   "nbconvert_exporter": "python",
   "pygments_lexer": "ipython3",
   "version": "3.5.2"
  }
 },
 "nbformat": 4,
 "nbformat_minor": 0
}
