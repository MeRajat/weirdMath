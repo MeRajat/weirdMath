{
 "cells": [
  {
   "cell_type": "markdown",
   "metadata": {},
   "source": [
    "Этот блокнот - про важность оси времени. \n",
    "\n",
    "Класс ```TimeWeightWrapper``` применяет к данным веса, убывающие со временем, и обучает с этими весами ваш любимый агоритм.\n",
    "\n",
    "Если в данных есть тренды, взвешивание наблюдений по релевантности - один из самых простых способов учесть эти тренды. "
   ]
  },
  {
   "cell_type": "code",
   "execution_count": 1,
   "metadata": {
    "collapsed": true
   },
   "outputs": [],
   "source": [
    "from sklearn.base import BaseEstimator\n",
    "\n",
    "class TimeWeightWrapper(BaseEstimator):\n",
    "    \"\"\" Apply exponential decay to observation weights \n",
    "        before fitting the base model.\n",
    "        Assume the first observations are the oldest.\n",
    "    \"\"\"\n",
    "    def __init__(self, base, decay=0.99):\n",
    "        self.base = base\n",
    "        self.decay = decay\n",
    "    def fit(self, X, y, initial_weights=1):\n",
    "        sample_weights = initial_weights * self.decay ** -np.arange(len(y))\n",
    "        self.base.fit(X, y, sample_weight=sample_weights)\n",
    "    def predict(self, X):\n",
    "        return self.base.predict(X)\n",
    "    def score(self, X, y):\n",
    "        return self.base.score(X, y)\n",
    "# a bug: if you use cross-validation with n_jobs > 1, this class should be put into a .py file."
   ]
  },
  {
   "cell_type": "markdown",
   "metadata": {},
   "source": [
    "Создадим обычную iid выборку, и добавим в неё немножко линейного тренда. \n",
    "\n",
    "Первое правило: если данные упорядочены по времени, используйте кросс-валидацию ```TimeSeriesSplit``` вместо дефолтной ```KFold```. Ибо ```KFold``` непременно завысит точность ваших прогнозов будущего. \n",
    "\n",
    "Второе правило: если не хотите включать время в модель в явном виде, перевзвешивайте наблюдения. Это здорово поднимет точность. Особенно если затюнить коэффициент затухания. \n",
    "\n",
    "Третье правило: если время важно, всё-таки включите его в модель. В данном примере в $y$ был включён линейный тренд, и модель его благополучно поймала. Далеко не всегда вас это спасёт, потому что вовсе не факт, что эффект времени линейный. Но попробовать стоит."
   ]
  },
  {
   "cell_type": "code",
   "execution_count": 2,
   "metadata": {},
   "outputs": [
    {
     "name": "stdout",
     "output_type": "stream",
     "text": [
      "Ordinary CV \t56.1%\n",
      "Time-ordered \t49.7%\n",
      "With decay \t56.9%\n",
      "Tuned decay \t58.1%\n",
      "Explicit trend \t78.6%\n"
     ]
    }
   ],
   "source": [
    "import numpy as np\n",
    "from sklearn.datasets import make_regression\n",
    "from sklearn.model_selection import cross_val_score, TimeSeriesSplit\n",
    "from sklearn.linear_model import Ridge\n",
    "\n",
    "# create toy data\n",
    "X, y = make_regression(n_samples=1000, noise=100, random_state=1)\n",
    "# add a linear trend to the data\n",
    "y += np.linspace(0, 300, num=y.shape[0])\n",
    "\n",
    "# ordinary cross-validation shows R2 biased upward\n",
    "print('Ordinary CV \\t{:3.1%}'.format(cross_val_score(Ridge(1), X, y, cv=5).mean()))\n",
    "# time-ordered decay shows more realistic R2\n",
    "tss = TimeSeriesSplit(5)\n",
    "print('Time-ordered \\t{:3.1%}'.format(cross_val_score(Ridge(1), X, y, cv=tss).mean()))\n",
    "# reweighing observations increases performance\n",
    "print('With decay \\t{:3.1%}'.format(cross_val_score(TimeWeightWrapper(Ridge(1)), X, y, cv=tss).mean()))\n",
    "# tuning decay rate boosts R2 even more\n",
    "print('Tuned decay \\t{:3.1%}'.format(cross_val_score(TimeWeightWrapper(Ridge(1), 0.9935), X, y, cv=tss).mean()))\n",
    "# build a model that explicitly uses time trend\n",
    "print('Explicit trend \\t{:3.1%}'.format(cross_val_score(Ridge(1), np.hstack([X, np.arange(1000)[:, np.newaxis]]), y, cv=5).mean()))"
   ]
  },
  {
   "cell_type": "code",
   "execution_count": null,
   "metadata": {
    "collapsed": true
   },
   "outputs": [],
   "source": []
  }
 ],
 "metadata": {
  "kernelspec": {
   "display_name": "Python 3",
   "language": "python",
   "name": "python3"
  },
  "language_info": {
   "codemirror_mode": {
    "name": "ipython",
    "version": 3
   },
   "file_extension": ".py",
   "mimetype": "text/x-python",
   "name": "python",
   "nbconvert_exporter": "python",
   "pygments_lexer": "ipython3",
   "version": "3.6.1"
  }
 },
 "nbformat": 4,
 "nbformat_minor": 2
}
