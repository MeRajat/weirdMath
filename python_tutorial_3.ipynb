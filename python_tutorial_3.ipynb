{
 "cells": [
  {
   "cell_type": "markdown",
   "metadata": {},
   "source": [
    "# Мягкое введение в Python, часть 3"
   ]
  },
  {
   "cell_type": "markdown",
   "metadata": {},
   "source": [
    "В [предыдущем блокноте](https://github.com/avidale/weirdMath/blob/master/python_tutorial_1.ipynb) мы познакомились с типами данных в Python, узнали про переменные, списки, циклы и условия. \n",
    "\n",
    "Во [втором блокноте](https://github.com/avidale/weirdMath/blob/master/python_tutorial_2.ipynb) мы обсудили функции, объекты и методы.\n",
    "\n",
    "В этом блокноте мы поговорим про"
   ]
  },
  {
   "cell_type": "markdown",
   "metadata": {
    "nbpresent": {
     "id": "6cd6ed51-0431-4232-a31e-a2b26116a892"
    }
   },
   "source": [
    "## 4. Структуры данных"
   ]
  },
  {
   "cell_type": "markdown",
   "metadata": {},
   "source": [
    "Подробнее и красочнее о структурах данных написано в [этом посте](https://vk.com/wall-130785301_92)."
   ]
  },
  {
   "cell_type": "markdown",
   "metadata": {},
   "source": [
    "Напомним, что список (aka массив, aka list) - это просто последовательность значений через запятую, в квадратных скобках.\n",
    "\n",
    "И это самая простая и популярная структура данных. Обращение происходит по номеру (начиная с 0). "
   ]
  },
  {
   "cell_type": "code",
   "execution_count": 13,
   "metadata": {},
   "outputs": [
    {
     "name": "stdout",
     "output_type": "stream",
     "text": [
      "Длина списка:  6\n",
      "Пятый элемент:  blue\n"
     ]
    }
   ],
   "source": [
    "list_example = ['red', 'orange', 'yellow', 'green', 'blue', 'purple']\n",
    "print('Длина списка: ', len(list_example))\n",
    "print('Пятый элемент: ', list_example[4])"
   ]
  },
  {
   "cell_type": "markdown",
   "metadata": {
    "nbpresent": {
     "id": "0ebabd4a-b1a2-45b2-bc41-6281099a00f1"
    }
   },
   "source": [
    "Интересной альтернативой спискам являются <i>словари</i> - составные объекты, элементы которых можно доставать не по номеру, а по имени."
   ]
  },
  {
   "cell_type": "code",
   "execution_count": 2,
   "metadata": {
    "nbpresent": {
     "id": "1046d15d-bb13-4c61-a74a-289e66b6fec0"
    }
   },
   "outputs": [
    {
     "name": "stdout",
     "output_type": "stream",
     "text": [
      "hello how business\n"
     ]
    }
   ],
   "source": [
    "rus_en = {'дела':'business', 'как':'how'}\n",
    "rus_en['привет'] = 'hello'\n",
    "print(rus_en['привет'], rus_en['как'], rus_en['дела'])"
   ]
  },
  {
   "cell_type": "markdown",
   "metadata": {
    "nbpresent": {
     "id": "bfbf1caa-9b63-4275-9bf2-1148334a334f"
    }
   },
   "source": [
    "Примеры методов у словарей - keys() возвращает ключи, а values() - значения."
   ]
  },
  {
   "cell_type": "code",
   "execution_count": 3,
   "metadata": {
    "nbpresent": {
     "id": "f6bed9dd-b19f-4fe3-9b88-47e07ab54e36"
    }
   },
   "outputs": [
    {
     "name": "stdout",
     "output_type": "stream",
     "text": [
      "dict_keys(['дела', 'как', 'привет'])\n",
      "dict_values(['business', 'how', 'hello'])\n",
      "['дела', 'как', 'привет']\n",
      "дела\n"
     ]
    }
   ],
   "source": [
    "print(rus_en.keys())\n",
    "# К сожалению, юникод - это одна из главных проблем Питона. Её можно решать, но проще избегать кириллицы :)\n",
    "print(rus_en.values())\n",
    "print(list(rus_en.keys()))\n",
    "print(list(rus_en.keys())[0])"
   ]
  },
  {
   "cell_type": "markdown",
   "metadata": {
    "nbpresent": {
     "id": "59d9826e-f1c7-467c-b4a3-1b30d0dbf4ca"
    }
   },
   "source": [
    "<b>Задание:</b> создайте словарь salary, который для трёх сотрудников Alice, Bob и Charles содержит их зарплаты (50, 30 и 60)."
   ]
  },
  {
   "cell_type": "code",
   "execution_count": null,
   "metadata": {
    "collapsed": true,
    "nbpresent": {
     "id": "021f058d-1129-4c57-9065-4c2a0615efb4"
    }
   },
   "outputs": [],
   "source": [
    "salary = \"\"\"Salary\"\"\"\n",
    "try:\n",
    "    print(salary['Алиса'])\n",
    "except TypeError:\n",
    "    print('Словарь нужно записать на место текстовой переменной Salary!')"
   ]
  },
  {
   "cell_type": "markdown",
   "metadata": {
    "nbpresent": {
     "id": "6069280a-f81e-4fb7-9595-61a70742d5ed"
    }
   },
   "source": [
    "Мы начали изучать Питон, чтобы работать с данными.\n",
    "\n",
    "Данные обычно хранятся в таблицах. А что такое таблица? Это набор столбцов одинаковой длины. Или набор строк одинаковой длины. В общем, говоря математически - это матрица.\n",
    "\n",
    "<b>Задание:</b> Как бы вы, используя полученные знания, задали бы единичную матрицу размера 2x2?"
   ]
  },
  {
   "cell_type": "code",
   "execution_count": null,
   "metadata": {
    "collapsed": true,
    "nbpresent": {
     "id": "b5b51ade-3738-46bf-b5e2-077d18fc1af6"
    }
   },
   "outputs": [],
   "source": [
    "x =  # опишите здесь единичную матрицу.\n",
    "print(x)"
   ]
  },
  {
   "cell_type": "markdown",
   "metadata": {
    "nbpresent": {
     "id": "1877c921-da04-4d37-9784-3771f9e7ecd5"
    }
   },
   "source": [
    "Вы всё правильно сделали! Теперь можно хотеть большего - например, чтобы наша матрица поддерживала математические действия, как и положено матрицам и векторам из линейной алгебры. Оказывается, объекты np.array умеют как раз это.\n",
    "\n",
    "Тут я импортирую библиотеку ```numpy``` и даю ей короткое имя ```np```."
   ]
  },
  {
   "cell_type": "code",
   "execution_count": 4,
   "metadata": {
    "nbpresent": {
     "id": "a923ab43-976e-4752-a0fc-4a991f187cb2"
    },
    "scrolled": true
   },
   "outputs": [
    {
     "name": "stdout",
     "output_type": "stream",
     "text": [
      "[[1 2]\n",
      " [3 4]]\n",
      "[[5 6]\n",
      " [7 8]]\n",
      "[[ 6  8]\n",
      " [10 12]]\n",
      "[[ 5 12]\n",
      " [21 32]]\n",
      "[[19 22]\n",
      " [43 50]]\n"
     ]
    }
   ],
   "source": [
    "import numpy as np\n",
    "\n",
    "A = np.array([[1,2],[3,4]])\n",
    "B = np.array([[5,6],[7,8]])\n",
    "print(A)\n",
    "print(B)\n",
    "print(A + B)\n",
    "print(A * B)\n",
    "print(np.dot(A,B)) # функция матричного произведения!"
   ]
  },
  {
   "cell_type": "markdown",
   "metadata": {
    "nbpresent": {
     "id": "8361f23d-c2ad-4fd4-aa91-42d4a64f63b9"
    }
   },
   "source": [
    "Массивы np.array индексируются через запятую - сначала строки, потом столбцы. Двоеточием обозначаются все элементы строки или столбца."
   ]
  },
  {
   "cell_type": "code",
   "execution_count": 5,
   "metadata": {
    "nbpresent": {
     "id": "c46c81a4-7fd6-4e7d-9a0f-ea8eb6198449"
    }
   },
   "outputs": [
    {
     "name": "stdout",
     "output_type": "stream",
     "text": [
      "[[ 0  1  2  3  4  5  6  7  8  9]\n",
      " [ 1  2  3  4  5  6  7  8  9 10]\n",
      " [ 2  3  4  5  6  7  8  9 10 11]\n",
      " [ 3  4  5  6  7  8  9 10 11 12]\n",
      " [ 4  5  6  7  8  9 10 11 12 13]\n",
      " [ 5  6  7  8  9 10 11 12 13 14]\n",
      " [ 6  7  8  9 10 11 12 13 14 15]\n",
      " [ 7  8  9 10 11 12 13 14 15 16]\n",
      " [ 8  9 10 11 12 13 14 15 16 17]\n",
      " [ 9 10 11 12 13 14 15 16 17 18]]\n",
      "4\n",
      "[ 3  4  5  6  7  8  9 10 11 12]\n",
      "[ 9 10 11 12 13 14 15 16 17 18]\n",
      "[10 11 12 13]\n",
      "[[3 4 5 6]\n",
      " [4 5 6 7]]\n"
     ]
    }
   ],
   "source": [
    "C = np.array([[i+j for i in range (10)] for j in range(10)])\n",
    "print(C)\n",
    "print(C[1,3]) # один элемент\n",
    "print(C[:,3]) # весь столбец\n",
    "print(C[9,:]) # вся строка\n",
    "print(C[9,1:5]) # кусочек строки\n",
    "print(C[2:4,1:5]) # кусочек матрицы из середины"
   ]
  },
  {
   "cell_type": "markdown",
   "metadata": {
    "nbpresent": {
     "id": "c4469301-4c4e-4429-8b71-deb97f1e1449"
    }
   },
   "source": [
    "**Задание**: \n",
    "1. Создайте объект np.array - вектор Y со значениями 4, 8, 9\n",
    "2. Создайте объект np.array - матрицу X размера 3*2, с первым столбцом из единиц и вторым с последовательностью 1, 2, 3\n",
    "3. Распечатайте вторую строку X, все строки X со второй до последней, первый столбец X\n",
    " \n",
    "\n",
    "**Задание для гиков**: пользуясь функциями np.linalg.inv, np.transpose либо метод transpose, np.dot, рассчитайте вектор $(X^TX)^{-1}X^TY$\n"
   ]
  },
  {
   "cell_type": "code",
   "execution_count": null,
   "metadata": {
    "collapsed": true
   },
   "outputs": [],
   "source": []
  },
  {
   "cell_type": "markdown",
   "metadata": {
    "nbpresent": {
     "id": "f33e5d27-150f-4e9c-8cab-61884c59944d"
    }
   },
   "source": [
    "Ещё более сложной структурой данных является объект ```DataFrame``` из библиотеки ```pandas```. Если ```array``` - это усложнённый ```list```, то ```DataFrame``` - это усложнённый ```array```.\n",
    "\n",
    "Подключим эту библиотеку:"
   ]
  },
  {
   "cell_type": "code",
   "execution_count": 6,
   "metadata": {
    "collapsed": true,
    "nbpresent": {
     "id": "6d131b09-eca6-4bc7-ac90-191ef5d1ec95"
    }
   },
   "outputs": [],
   "source": [
    "import pandas as pd"
   ]
  },
  {
   "cell_type": "markdown",
   "metadata": {
    "nbpresent": {
     "id": "7e3795ee-7839-4270-9db1-2805ad7b1355"
    }
   },
   "source": [
    "В частности, ```DataFrame``` поддерживает именованные названия столбцов. \n",
    "\n",
    "Создадим массив с возрастом и доходом нескольких людей (заметьте, что я создал его из словаря)."
   ]
  },
  {
   "cell_type": "code",
   "execution_count": 7,
   "metadata": {
    "nbpresent": {
     "id": "94de3a77-bd06-42ee-8854-fd467e47bed5"
    }
   },
   "outputs": [
    {
     "name": "stdout",
     "output_type": "stream",
     "text": [
      "   age  income\n",
      "0   18   15000\n",
      "1   35  110000\n",
      "2   27   60000\n",
      "3   24   80000\n",
      "4   19   45000\n"
     ]
    }
   ],
   "source": [
    "data = pd.DataFrame({'age':[18, 35, 27, 24, 19]\n",
    "    , 'income':[15000, 110000, 60000, 80000, 45000]})\n",
    "print(data)"
   ]
  },
  {
   "cell_type": "markdown",
   "metadata": {
    "nbpresent": {
     "id": "32d8f708-f6b4-4c6e-9f11-d1aaf0c29ce0"
    }
   },
   "source": [
    "К таким таблицам можно обращаться по именам столбцов."
   ]
  },
  {
   "cell_type": "code",
   "execution_count": 8,
   "metadata": {
    "nbpresent": {
     "id": "9228317f-8cc0-4df5-90eb-e2f731d7ab7f"
    }
   },
   "outputs": [
    {
     "name": "stdout",
     "output_type": "stream",
     "text": [
      "0    18\n",
      "1    35\n",
      "2    27\n",
      "3    24\n",
      "4    19\n",
      "Name: age, dtype: int64\n"
     ]
    }
   ],
   "source": [
    "print(data['age'])"
   ]
  },
  {
   "cell_type": "markdown",
   "metadata": {
    "nbpresent": {
     "id": "ffde2b31-5d87-464c-a763-7a007f9f7342"
    }
   },
   "source": [
    "Кстати, список имён столбцов - это свойство columns объекта DataFrame"
   ]
  },
  {
   "cell_type": "code",
   "execution_count": 9,
   "metadata": {
    "nbpresent": {
     "id": "32895470-1ef7-47a9-8730-3e9ea21f7393"
    }
   },
   "outputs": [
    {
     "name": "stdout",
     "output_type": "stream",
     "text": [
      "Index(['age', 'income'], dtype='object')\n"
     ]
    }
   ],
   "source": [
    "print(data.columns)"
   ]
  },
  {
   "cell_type": "markdown",
   "metadata": {
    "nbpresent": {
     "id": "38cc665b-fadb-4feb-9949-4269c035ac04"
    }
   },
   "source": [
    "К любому столбцу дальше можно обращаться по номеру строк."
   ]
  },
  {
   "cell_type": "code",
   "execution_count": 10,
   "metadata": {
    "nbpresent": {
     "id": "6e08579f-3112-491a-831c-feaf024b06bf"
    }
   },
   "outputs": [
    {
     "name": "stdout",
     "output_type": "stream",
     "text": [
      "1    35\n",
      "2    27\n",
      "Name: age, dtype: int64\n"
     ]
    }
   ],
   "source": [
    "print(data['age'][1:3])"
   ]
  },
  {
   "cell_type": "markdown",
   "metadata": {
    "nbpresent": {
     "id": "b80488ae-e171-480d-8eca-5ed0eb87ab6f"
    }
   },
   "source": [
    "При желании таблицу можно сохранить на диск в формате csv, который поддерживается Excel и другими программами."
   ]
  },
  {
   "cell_type": "code",
   "execution_count": 11,
   "metadata": {
    "collapsed": true,
    "nbpresent": {
     "id": "59bc3600-5a01-4cf5-8553-3b6d84912adc"
    }
   },
   "outputs": [],
   "source": [
    "data.to_csv('data1.csv', sep = ';', index = False) \n",
    "# по умолчанию в качестве разделителя используется запятая, но здесь мы используем точку с запятой для совместимости с Excel. "
   ]
  },
  {
   "cell_type": "markdown",
   "metadata": {
    "nbpresent": {
     "id": "4c7bcb8d-4f09-41ed-a5cc-22212870206a"
    }
   },
   "source": [
    "<b>Задание:</b> \n",
    "1. Создайте DataFrame XFrame из матрицы X (созданной в предыдущем задании). Напечатайте его.\n",
    "2. Посмотрите, чему у XFrame равно свойство columns. Замените columns на список ['const', 'x1']. Снова напечатайте XFrame\n",
    "3. Напечатайте первые два значения столбца 'x1'. "
   ]
  },
  {
   "cell_type": "code",
   "execution_count": null,
   "metadata": {
    "collapsed": true
   },
   "outputs": [],
   "source": []
  },
  {
   "cell_type": "markdown",
   "metadata": {},
   "source": [
    "А вот это способ отобразить таблицу чуть более красиво:"
   ]
  },
  {
   "cell_type": "code",
   "execution_count": 12,
   "metadata": {},
   "outputs": [
    {
     "data": {
      "text/html": [
       "<div>\n",
       "<style>\n",
       "    .dataframe thead tr:only-child th {\n",
       "        text-align: right;\n",
       "    }\n",
       "\n",
       "    .dataframe thead th {\n",
       "        text-align: left;\n",
       "    }\n",
       "\n",
       "    .dataframe tbody tr th {\n",
       "        vertical-align: top;\n",
       "    }\n",
       "</style>\n",
       "<table border=\"1\" class=\"dataframe\">\n",
       "  <thead>\n",
       "    <tr style=\"text-align: right;\">\n",
       "      <th></th>\n",
       "      <th>age</th>\n",
       "      <th>income</th>\n",
       "    </tr>\n",
       "  </thead>\n",
       "  <tbody>\n",
       "    <tr>\n",
       "      <th>0</th>\n",
       "      <td>18</td>\n",
       "      <td>15000</td>\n",
       "    </tr>\n",
       "    <tr>\n",
       "      <th>1</th>\n",
       "      <td>35</td>\n",
       "      <td>110000</td>\n",
       "    </tr>\n",
       "    <tr>\n",
       "      <th>2</th>\n",
       "      <td>27</td>\n",
       "      <td>60000</td>\n",
       "    </tr>\n",
       "    <tr>\n",
       "      <th>3</th>\n",
       "      <td>24</td>\n",
       "      <td>80000</td>\n",
       "    </tr>\n",
       "    <tr>\n",
       "      <th>4</th>\n",
       "      <td>19</td>\n",
       "      <td>45000</td>\n",
       "    </tr>\n",
       "  </tbody>\n",
       "</table>\n",
       "</div>"
      ],
      "text/plain": [
       "   age  income\n",
       "0   18   15000\n",
       "1   35  110000\n",
       "2   27   60000\n",
       "3   24   80000\n",
       "4   19   45000"
      ]
     },
     "metadata": {},
     "output_type": "display_data"
    }
   ],
   "source": [
    "from IPython.display import display\n",
    "display(data)"
   ]
  },
  {
   "cell_type": "markdown",
   "metadata": {
    "nbpresent": {
     "id": "9cea1a74-143a-4329-905a-79477a8ba3aa"
    }
   },
   "source": [
    "Напомним, что подробнее и красочнее о структурах данных написано в [этом посте](https://vk.com/wall-130785301_92).\n",
    "\n",
    "И вообще, подписывайтесь на [vk.com/mat.chast](https://vk.com/mat.chast), тут будет много интересного дальше :)"
   ]
  }
 ],
 "metadata": {
  "kernelspec": {
   "display_name": "Python 3",
   "language": "python",
   "name": "python3"
  },
  "language_info": {
   "codemirror_mode": {
    "name": "ipython",
    "version": 3
   },
   "file_extension": ".py",
   "mimetype": "text/x-python",
   "name": "python",
   "nbconvert_exporter": "python",
   "pygments_lexer": "ipython3",
   "version": "3.6.1"
  }
 },
 "nbformat": 4,
 "nbformat_minor": 2
}
