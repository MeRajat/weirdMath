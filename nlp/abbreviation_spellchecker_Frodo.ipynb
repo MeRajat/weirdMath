{
 "cells": [
  {
   "cell_type": "markdown",
   "metadata": {},
   "source": [
    "This notebook illustrates a spell-checking algorithm, that helps restoring abbreviations based on the Lord of the Rings vocabulary!"
   ]
  },
  {
   "cell_type": "markdown",
   "metadata": {},
   "source": [
    "I present a very simple model, inspired by the post https://stackoverflow.com/questions/43510778.\n",
    "\n",
    "The problem is how to recover whole words from abbreviations, like these\n",
    "```\n",
    "wtrbtl = water bottle\n",
    "bwlingbl = bowling ball\n",
    "bsktball = basketball\n",
    "```\n",
    "without comprehensive dictionary of whole words.\n",
    "\n",
    "I use [noisy channel approach](http://web.stanford.edu/~jurafsky/slp3/5.pdf), which considers each abbreviation as a distorted version of the original phrase. \n",
    "\n",
    "To recover the original phrase, I need to answer to questions: which distortions are likely, and which phrases are likely.\n",
    "\n",
    "By Bayes theorem, $p(phrase|abbreviation) \\sim p(phrase) p(abbreviation|phrase) = p(phrase) \\sum p(distortion|phrase) $, where $distortion$, applied to the original $phrase$, generates the observable phrase - $abbreviation$. \n",
    "\n",
    "Both right-hand sided conditional probabilities may be evaluated by NLP models. I will use the simplest class of models - character based n-grams.\n",
    "\n",
    "With these models, I will perform approximate (beam) search for the most likely originall phrases, letter-by-letter. "
   ]
  },
  {
   "cell_type": "markdown",
   "metadata": {},
   "source": [
    "First, I create the language model. \n",
    "\n",
    "It merges weighted frequencies of n, n-1, ..., 0 gram-models to give the most stable estimiate of distribution of next each letter in a phrase based on previous letters. It is one of the [vanilla n-gram models](https://en.wikipedia.org/wiki/N-gram)."
   ]
  },
  {
   "cell_type": "code",
   "execution_count": 37,
   "metadata": {
    "collapsed": true
   },
   "outputs": [],
   "source": [
    "from collections import defaultdict, Counter\n",
    "import numpy as np\n",
    "import pandas as pd\n",
    "\n",
    "class LanguageNgramModel:\n",
    "    \"\"\" Remember and predict which letters usually follows which. \"\"\"\n",
    "    def __init__(self, order=1, smoothing=1.0, recursive=0.001):\n",
    "        self.order = order\n",
    "        self.smoothing = smoothing\n",
    "        self.recursive = recursive\n",
    "    \n",
    "    def fit(self, corpus):\n",
    "        \"\"\" Estimate all counts on a text \"\"\"\n",
    "        self.counter_ = defaultdict(lambda: Counter())\n",
    "        self.unigrams_ = Counter()\n",
    "        self.vocabulary_ = set()\n",
    "        for i, token in enumerate(corpus[self.order:]):\n",
    "            context = corpus[i:(i+self.order)]\n",
    "            self.counter_[context][token] += 1\n",
    "            self.unigrams_[token] +=1\n",
    "            self.vocabulary_.add(token)\n",
    "        self.vocabulary_ = sorted(list(self.vocabulary_))\n",
    "        if self.recursive > 0 and self.order > 0:\n",
    "            self.child_ = LanguageNgramModel(self.order-1, self.smoothing, self.recursive)\n",
    "            self.child_.fit(corpus)\n",
    "            \n",
    "    def get_counts(self, context):\n",
    "        \"\"\" Get smoothed count of each letter appearing after context \"\"\"\n",
    "        if self.order:\n",
    "            local = context[-self.order:]\n",
    "        else:\n",
    "            local = ''\n",
    "        freq_dict = self.counter_[local]\n",
    "        freq = pd.Series(index=self.vocabulary_)\n",
    "        for i, token in enumerate(self.vocabulary_):\n",
    "            freq[token] = freq_dict[token] + self.smoothing\n",
    "        if self.recursive > 0 and self.order > 0:\n",
    "            child_freq = self.child_.get_counts(context) * self.recursive\n",
    "            freq += child_freq\n",
    "        return freq\n",
    "    \n",
    "    def predict_proba(self, context):\n",
    "        \"\"\" Get smoothed probability of each letter appearing after context \"\"\"\n",
    "        counts = self.get_counts(context)\n",
    "        return counts / counts.sum()\n",
    "    \n",
    "    def single_log_proba(self, context, continuation):\n",
    "        \"\"\" Estimate log-probability that context is followed by continuation \"\"\"\n",
    "        result = 0.0\n",
    "        for token in continuation:\n",
    "            result += np.log(self.predict_proba(context)[token])\n",
    "            context += token\n",
    "        return result\n",
    "    \n",
    "    def single_proba(self, context, continuation):\n",
    "        \"\"\" Estimate probability that context is followed by continuation \"\"\"\n",
    "        return np.exp(self.single_log_proba(context, continuation))"
   ]
  },
  {
   "cell_type": "markdown",
   "metadata": {},
   "source": [
    "Next, I create the missing letter model. It is also based on n-grams, but it estimates probability of each letter being missed based on the previous letters.\n",
    "\n",
    "This model would be trained on a much smaller dataset, labeled manually. And it will itself be small."
   ]
  },
  {
   "cell_type": "code",
   "execution_count": 2,
   "metadata": {
    "collapsed": true
   },
   "outputs": [],
   "source": [
    "class MissingLetterModel:\n",
    "    \"\"\" Remember and predict which letters are usually missing. \"\"\"\n",
    "    def __init__(self, order=0, smoothing_missed=0.3, smoothing_total=1.0):\n",
    "        self.order = order\n",
    "        self.smoothing_missed = smoothing_missed\n",
    "        self.smoothing_total = smoothing_total\n",
    "    def fit(self, sentence_pairs):\n",
    "        self.missed_counter_ = defaultdict(lambda: Counter())\n",
    "        self.total_counter_ = defaultdict(lambda: Counter())\n",
    "        for (original, observed) in sentence_pairs:\n",
    "            for i, (original_letter, observed_letter) in enumerate(zip(original[self.order:], observed[self.order:])):\n",
    "                context = original[i:(i+self.order)]\n",
    "                if observed_letter == '-':\n",
    "                    self.missed_counter_[context][original_letter] += 1\n",
    "                self.total_counter_[context][original_letter] += 1 \n",
    "    def predict_proba(self, context, last_letter):\n",
    "        \"\"\" Estimate probability that last_letter after context is missed \"\"\"\n",
    "        if self.order:\n",
    "            local = context[-self.order:]\n",
    "        else:\n",
    "            local = ''\n",
    "        missed_freq = self.missed_counter_[local][last_letter] + self.smoothing_missed\n",
    "        total_freq = self.total_counter_[local][last_letter] + self.smoothing_total\n",
    "        return missed_freq / total_freq\n",
    "    \n",
    "    def single_log_proba(self, context, continuation, actual=None):\n",
    "        \"\"\" Estimate log-probability of continuaton being distorted to actual after context. \n",
    "        If actual is None, assume no distortion\n",
    "        \"\"\"\n",
    "        if not actual:\n",
    "            actual = continuation\n",
    "        result = 0.0\n",
    "        for orig_token, act_token in zip(continuation, actual):\n",
    "            pp = self.predict_proba(context, orig_token)\n",
    "            if act_token == '-':\n",
    "                pp = 1 - pp\n",
    "            result += np.log(pp)\n",
    "            context += orig_token\n",
    "        return result\n",
    "    \n",
    "    def single_proba(self, context, continuation, actual=None):\n",
    "        \"\"\" Estimate probability of continuaton being distorted to actual after context. \n",
    "        If actual is None, assume no distortion\n",
    "        \"\"\"\n",
    "        return np.exp(self.single_log_proba(context, continuation, actual))"
   ]
  },
  {
   "cell_type": "markdown",
   "metadata": {},
   "source": [
    "Let's start wiht a simple example. I train my language model on a single word."
   ]
  },
  {
   "cell_type": "code",
   "execution_count": 3,
   "metadata": {},
   "outputs": [
    {
     "data": {
      "text/plain": [
       "     0.181777\n",
       "a    0.091297\n",
       "b    0.272529\n",
       "c    0.181686\n",
       "d    0.181686\n",
       "r    0.091025\n",
       "dtype: float64"
      ]
     },
     "execution_count": 3,
     "metadata": {},
     "output_type": "execute_result"
    }
   ],
   "source": [
    "lang_model = LanguageNgramModel(1)\n",
    "lang_model.fit(' abracadabra ')\n",
    "lang_model.predict_proba(' bra')"
   ]
  },
  {
   "cell_type": "markdown",
   "metadata": {},
   "source": [
    "Next, I train my distortion model on a single (original word, distortion) pair."
   ]
  },
  {
   "cell_type": "code",
   "execution_count": 4,
   "metadata": {},
   "outputs": [
    {
     "data": {
      "text/plain": [
       "(0.7166666666666667, 0.09999999999999999)"
      ]
     },
     "execution_count": 4,
     "metadata": {},
     "output_type": "execute_result"
    }
   ],
   "source": [
    "missed_model = MissingLetterModel(0)\n",
    "missed_model.fit([('abracadabra', 'abr-c-d-br-')]) \n",
    "missed_model.predict_proba('abr', 'a'), missed_model.predict_proba('abr', 'b')"
   ]
  },
  {
   "cell_type": "code",
   "execution_count": 5,
   "metadata": {},
   "outputs": [
    {
     "data": {
      "text/plain": [
       "0.0020305555555555532"
      ]
     },
     "execution_count": 5,
     "metadata": {},
     "output_type": "execute_result"
    }
   ],
   "source": [
    "missed_model.single_proba('', 'abra', 'abr-')"
   ]
  },
  {
   "cell_type": "markdown",
   "metadata": {
    "collapsed": true
   },
   "source": [
    "**Approach to the search**\n",
    "\n",
    "For simplicity, we let each query (distorted phrase) start and end with whitespaces (beginning and end of phrases).\n",
    "\n",
    "We will have an infinite tree which we hant to explore for the best (most probable) path from the root to a leaf.\n",
    "\n",
    "The root is the beginning of the phease. Each edge is an additional letter, and it can be missed or intact. Each edge is assigned probability conditional on several previous edges. Thus probability of each path is the product of probabilities of its edges (or sum of log-probabilities).\n",
    "\n",
    "A node is declared as a leaf, if its path, with the missed letters dropped, equals the query. \n",
    "\n",
    "**Search algorithm**\n",
    "\n",
    "This tree is possibly infinite, but we need only the good leaves. So we do a kind of beam search: \n",
    " * at each node, estimate log-probability of its ancestor leaves as $optimism \\times default$, where $optimism$ is a user-provided coefficient, and $default$ is the unconditional probability of the corresponding (unprocessed) phrase suffix at this node. \n",
    " * look only at the nodes with estimate of log-likelihood no less than best current log-likelihood minus $freedom$.\n",
    " \n",
    "So, the lower $optimism$ and the higher $freedom$, the slower the search will be, and the more paths will be explored."
   ]
  },
  {
   "cell_type": "code",
   "execution_count": 6,
   "metadata": {
    "collapsed": true
   },
   "outputs": [],
   "source": [
    "from heapq import heappush, heappop"
   ]
  },
  {
   "cell_type": "markdown",
   "metadata": {},
   "source": [
    "This function generates children for each node and estimates likelihood of their ancestor leaves."
   ]
  },
  {
   "cell_type": "code",
   "execution_count": 7,
   "metadata": {},
   "outputs": [
    {
     "name": "stdout",
     "output_type": "stream",
     "text": [
      "[(6.929663174828117, '  ', 'brac ', ' ', 3.7800651217336947), (5.0428796453387541, ' a', 'brac ', 'a', 3.4572571306016755), (8.0948719475345303, ' b', 'brac ', 'b', 3.8466616057719989), (7.6238078617051874, ' c', 'brac ', 'c', 3.7800651217336947), (7.6238078617051874, ' d', 'brac ', 'd', 3.7800651217336947), (8.0948719475345303, ' r', 'brac ', 'r', 3.8466616057719989), (4.8582382617757647, ' b', 'rac ', '', 2.8072524973494524)]\n"
     ]
    }
   ],
   "source": [
    "def generate_options(prefix_proba, prefix, suffix, lang_model, missed_model, optimism=0.5, cache=None):\n",
    "    options = []\n",
    "    for letter in lang_model.vocabulary_ + ['']:\n",
    "        if letter:  # assume a missing letter\n",
    "            next_letter = letter\n",
    "            new_suffix = suffix\n",
    "            new_prefix = prefix + next_letter\n",
    "            proba_missing_state = - np.log(missed_model.predict_proba(prefix, letter))\n",
    "        else:  # assume no missing letter\n",
    "            next_letter = suffix[0]\n",
    "            new_suffix = suffix[1:]\n",
    "            new_prefix = prefix + next_letter\n",
    "            proba_missing_state = - np.log((1 - missed_model.predict_proba(prefix, next_letter)))\n",
    "        proba_next_letter = - np.log(lang_model.single_proba(prefix, next_letter))\n",
    "        if cache:\n",
    "            proba_suffix = cache[len(new_suffix)] * optimism\n",
    "        else:\n",
    "            proba_suffix = - np.log(lang_model.single_proba(new_prefix, new_suffix)) * optimism\n",
    "        proba = prefix_proba + proba_next_letter + proba_missing_state + proba_suffix\n",
    "        options.append((proba, new_prefix, new_suffix, letter, proba_suffix))\n",
    "    return options\n",
    "print(generate_options(0, ' ', 'brac ', lang_model, missed_model))"
   ]
  },
  {
   "cell_type": "markdown",
   "metadata": {},
   "source": [
    "This function explores the graph on noisy channel in the best-first manner, until it runs out of attempts or out of optimistic nodes."
   ]
  },
  {
   "cell_type": "code",
   "execution_count": 8,
   "metadata": {
    "collapsed": true
   },
   "outputs": [],
   "source": [
    "def noisy_channel(word, lang_model, missed_model, freedom=1.0, max_attempts=1000, optimism=0.1, verbose=True):\n",
    "    query = word + ' '\n",
    "    prefix = ' '\n",
    "    prefix_proba = 0.0\n",
    "    suffix = query\n",
    "    full_origin_logprob = -lang_model.single_log_proba(prefix, query)\n",
    "    no_missing_logprob = -missed_model.single_log_proba(prefix, query)\n",
    "    best_logprob = full_origin_logprob + no_missing_logprob\n",
    "    # add empty beginning to the heap\n",
    "    heap = [(best_logprob * optimism, prefix, suffix, '', best_logprob * optimism)]\n",
    "    # add the default option (no missing letters) to candidates\n",
    "    candidates = [(best_logprob, prefix + query, '', None, 0.0)]\n",
    "    if verbose:\n",
    "        # todo: include distortion probability\n",
    "        print('baseline score is', best_logprob)\n",
    "    # prepare cache for suffixes (the slowest operation)\n",
    "    cache = {}\n",
    "    for i in range(len(query)+1):\n",
    "        future_suffix = query[:i]\n",
    "        cache[len(future_suffix)] = -lang_model.single_log_proba('', future_suffix) # rough approximation\n",
    "        cache[len(future_suffix)] += -missed_model.single_log_proba('', future_suffix) # at least add missingness\n",
    "    \n",
    "    for i in range(max_attempts):\n",
    "        if not heap:\n",
    "            break\n",
    "        next_best = heappop(heap)\n",
    "        if verbose:\n",
    "            print(next_best)\n",
    "        if next_best[2] == '':  # it is a leaf\n",
    "            # this is the best leaf as far, add it to candidates\n",
    "            if next_best[0] <= best_logprob + freedom:\n",
    "                candidates.append(next_best)\n",
    "                # update the best likelihood\n",
    "                if next_best[0] < best_logprob:\n",
    "                    best_logprob = next_best[0]\n",
    "        else: # it is not a leaf - generate more options\n",
    "            prefix_proba = next_best[0] - next_best[4] # all proba estimate minus suffix\n",
    "            prefix = next_best[1]\n",
    "            suffix = next_best[2]\n",
    "            new_options = generate_options(prefix_proba, prefix, suffix, lang_model, missed_model, optimism, cache)\n",
    "            # add only the solution potentioally no worse than the best + freedom\n",
    "            for new_option in new_options: \n",
    "                if new_option[0] < best_logprob + freedom:\n",
    "                    heappush(heap, new_option)\n",
    "    if verbose:\n",
    "        print('heap size is', len(heap), 'after', i, 'iterations')\n",
    "    result = {}\n",
    "    for candidate in candidates:\n",
    "        if candidate[0] <= best_logprob + freedom:\n",
    "            result[candidate[1][1:-1]] = candidate[0]\n",
    "    return result"
   ]
  },
  {
   "cell_type": "markdown",
   "metadata": {},
   "source": [
    "We apply this function to the abbreviation 'brc' and look for suggested options with scores (the lower the better)"
   ]
  },
  {
   "cell_type": "code",
   "execution_count": 9,
   "metadata": {},
   "outputs": [
    {
     "name": "stdout",
     "output_type": "stream",
     "text": [
      "baseline score is 14.6595311327\n",
      "(7.3297655663613988, ' ', 'brc ', '', 7.3297655663613988)\n",
      "(7.7290471637279987, ' b', 'rc ', '', 5.6780613993016864)\n",
      "(6.8281417621854743, ' br', 'c ', '', 3.6895935452776367)\n",
      "(7.4280828999365962, ' brc', ' ', '', 2.047200030368765)\n",
      "(7.6831830622750497, ' brc ', '', '', -0.0)\n",
      "(8.1424896432081226, ' bra', 'c ', 'a', 3.6895935452776367)\n",
      "(8.3680894324096364, ' brac', ' ', '', 2.047200030368765)\n",
      "(8.6231895947480908, ' brac ', '', '', -0.0)\n",
      "(8.8384829405859762, ' a', 'brc ', 'a', 7.2528604258488976)\n",
      "(8.6690536962010381, ' ab', 'rc ', '', 5.6780613993016864)\n",
      "(7.7681482946585128, ' abr', 'c ', '', 3.6895935452776367)\n",
      "(8.3680894324096347, ' abrc', ' ', '', 2.047200030368765)\n",
      "(8.6231895947480872, ' abrc ', '', '', -0.0)\n",
      "(9.0137054146736748, ' brca', ' ', 'a', 2.047200030368765)\n",
      "(9.0281553270656012, ' brca ', '', '', -0.0)\n",
      "(9.0824961756811611, ' abra', 'c ', 'a', 3.6895935452776367)\n",
      "(9.3080959648826749, ' abrac', ' ', '', 2.047200030368765)\n",
      "(9.5631961272211292, ' abrac ', '', '', -0.0)\n",
      "(10.110932783356503, ' br ', 'c ', ' ', 3.6895935452776367)\n",
      "(10.138023264403881, ' ba', 'rc ', 'a', 5.6780613993016864)\n",
      "(10.40245847894332, '  ', 'brc ', ' ', 7.2528604258488976)\n",
      "(10.577680953031019, ' brc ', ' ', ' ', 2.047200030368765)\n",
      "(10.805077470233574, ' brc', 'c ', 'c', 3.6895935452776367)\n",
      "(10.805077470233574, ' brd', 'c ', 'd', 3.6895935452776367)\n",
      "(11.011838184899027, ' b ', 'rc ', ' ', 5.6780613993016864)\n",
      "(11.013834193545744, ' br', 'rc ', 'r', 5.6780613993016864)\n",
      "(11.09660316582039, ' c', 'brc ', 'c', 7.2528604258488976)\n",
      "(11.09660316582039, ' d', 'brc ', 'd', 7.2528604258488976)\n",
      "(11.209545072024614, ' brb', 'c ', 'b', 3.6895935452776367)\n",
      "(11.209545072024614, ' brr', 'c ', 'r', 3.6895935452776367)\n",
      "(11.271825639908089, ' brcc', ' ', 'c', 2.047200030368765)\n",
      "(11.271825639908089, ' brcd', ' ', 'd', 2.047200030368765)\n",
      "(11.501070767611429, ' b', 'brc ', 'b', 7.2528604258488976)\n",
      "(11.501070767611429, ' r', 'brc ', 'r', 7.2528604258488976)\n",
      "(11.676293241699129, ' brcb', ' ', 'b', 2.047200030368765)\n",
      "(11.676293241699129, ' brcr', ' ', 'r', 2.047200030368765)\n",
      "(11.705982871776099, ' bc', 'rc ', 'c', 5.6780613993016864)\n",
      "(11.705982871776099, ' bd', 'rc ', 'd', 5.6780613993016864)\n",
      "(12.110450473567138, ' bb', 'rc ', 'b', 5.6780613993016864)\n",
      "heap size is 0 after 39 iterations\n",
      "{'brc': 7.6831830622750497, 'brac': 8.6231895947480908, 'abrc': 8.6231895947480872, 'brca': 9.0281553270656012, 'abrac': 9.5631961272211292}\n"
     ]
    }
   ],
   "source": [
    "result = noisy_channel('brc', lang_model, missed_model, freedom=2.0, optimism=0.5, verbose=True)\n",
    "print(result)"
   ]
  },
  {
   "cell_type": "markdown",
   "metadata": {},
   "source": [
    "# Тест на больших данных"
   ]
  },
  {
   "cell_type": "markdown",
   "metadata": {},
   "source": [
    "Now let's train a good language model on a large corpus - Lord of the Rings!\n",
    "\n",
    "To start, drop all characters except spaces and letters."
   ]
  },
  {
   "cell_type": "code",
   "execution_count": 10,
   "metadata": {},
   "outputs": [
    {
     "name": "stdout",
     "output_type": "stream",
     "text": [
      "john r r tolkienforeword  prologue concerning hobbits   concerning pipeweed   of the ordering of the\n"
     ]
    }
   ],
   "source": [
    "with open('Fellowship_of_the_Ring.txt', encoding = 'utf-8') as f:\n",
    "    text = f.read()\n",
    "import re\n",
    "text2 = re.sub(r'[^a-z ]+', '', text.lower().replace('\\n', ' '))\n",
    "print(text2[0:100])"
   ]
  },
  {
   "cell_type": "code",
   "execution_count": 11,
   "metadata": {},
   "outputs": [
    {
     "name": "stdout",
     "output_type": "stream",
     "text": [
      "' abcdefghijklmnopqrstuvwxyz'\n"
     ]
    }
   ],
   "source": [
    "all_letters = ''.join(list(sorted(list(set(text2)))))\n",
    "print(repr(all_letters))"
   ]
  },
  {
   "cell_type": "markdown",
   "metadata": {},
   "source": [
    "Prepare a small training corpus for the missing-word model, that shows that letters 'aeiouy' are missed more frequently "
   ]
  },
  {
   "cell_type": "code",
   "execution_count": 12,
   "metadata": {
    "collapsed": true
   },
   "outputs": [],
   "source": [
    "missing_set = [\n",
    "] + [(all_letters, '-' * len(all_letters))] * 3 + [(all_letters, all_letters)] * 10 + [('aeiouy', '------')] * 30"
   ]
  },
  {
   "cell_type": "markdown",
   "metadata": {},
   "source": [
    "Choose the best model order by comparing log likelihoods on the end of the book ('test set'). \n",
    "\n",
    "The longer memory, the better. But after order 4 the gain is not so large, so we stop here."
   ]
  },
  {
   "cell_type": "code",
   "execution_count": 75,
   "metadata": {},
   "outputs": [
    {
     "name": "stdout",
     "output_type": "stream",
     "text": [
      "0 -13858.8563428\n",
      "1 -11445.5735806\n",
      "2 -9076.21930752\n",
      "3 -7576.58572789\n",
      "4 -7430.83595559\n"
     ]
    }
   ],
   "source": [
    "for i in range(5):\n",
    "    tmp = LanguageNgramModel(i, 1.0, 0.001)\n",
    "    tmp.fit(text2[0:-5000])\n",
    "    print(i, tmp.single_log_proba(' ', text2[-5000:]))"
   ]
  },
  {
   "cell_type": "markdown",
   "metadata": {},
   "source": [
    "Train the 5-gram language model and 1-gram missing letter model."
   ]
  },
  {
   "cell_type": "code",
   "execution_count": 56,
   "metadata": {
    "collapsed": true
   },
   "outputs": [],
   "source": [
    "big_lang_m = LanguageNgramModel(4, 0.001, 0.01)\n",
    "big_lang_m.fit(text2)\n",
    "big_err_m = MissingLetterModel(0, 0.1)\n",
    "big_err_m.fit(missing_set)"
   ]
  },
  {
   "cell_type": "markdown",
   "metadata": {},
   "source": [
    "Apply our algorithm to different abbreviations:"
   ]
  },
  {
   "cell_type": "code",
   "execution_count": 67,
   "metadata": {
    "scrolled": true
   },
   "outputs": [
    {
     "data": {
      "text/plain": [
       "{'sam': 7.4588454092710004, 'same': 9.6033682923406278}"
      ]
     },
     "execution_count": 67,
     "metadata": {},
     "output_type": "execute_result"
    }
   ],
   "source": [
    "noisy_channel('sm', big_lang_m, big_err_m, max_attempts=10000, optimism=0.9, freedom=3.0, verbose=False)"
   ]
  },
  {
   "cell_type": "code",
   "execution_count": 68,
   "metadata": {
    "scrolled": true
   },
   "outputs": [
    {
     "data": {
      "text/plain": [
       "{'frodo': 6.9768103724612409}"
      ]
     },
     "execution_count": 68,
     "metadata": {},
     "output_type": "execute_result"
    }
   ],
   "source": [
    "noisy_channel('frd', big_lang_m, big_err_m, max_attempts=10000, optimism=0.9, freedom=3.0, verbose=False)"
   ]
  },
  {
   "cell_type": "code",
   "execution_count": 69,
   "metadata": {
    "scrolled": true
   },
   "outputs": [
    {
     "name": "stdout",
     "output_type": "stream",
     "text": [
      "{'ring': 7.7313680722246731}\n"
     ]
    }
   ],
   "source": [
    "noisy_channel('rng', big_lang_m, big_err_m, max_attempts=10000, optimism=0.9, freedom=3.0, verbose=False)\n"
   ]
  },
  {
   "cell_type": "code",
   "execution_count": 70,
   "metadata": {
    "scrolled": true
   },
   "outputs": [
    {
     "data": {
      "text/plain": [
       "{'water': 8.7079820055116226}"
      ]
     },
     "execution_count": 70,
     "metadata": {},
     "output_type": "execute_result"
    }
   ],
   "source": [
    "noisy_channel('wtr', big_lang_m, big_err_m, max_attempts=10000, optimism=0.9, freedom=3.0, verbose=False)"
   ]
  },
  {
   "cell_type": "code",
   "execution_count": 71,
   "metadata": {
    "scrolled": true
   },
   "outputs": [
    {
     "data": {
      "text/plain": [
       "{'but all': 14.429853364853724,\n",
       " 'but ill': 15.171550478879873,\n",
       " 'but lay': 15.509052337929914,\n",
       " 'but let': 16.681886015187072,\n",
       " 'but lie': 16.577441149955074,\n",
       " 'but look': 17.296799271311524}"
      ]
     },
     "execution_count": 71,
     "metadata": {},
     "output_type": "execute_result"
    }
   ],
   "source": [
    "noisy_channel('btl', big_lang_m, big_err_m, max_attempts=10000, optimism=0.9, freedom=3.0, verbose=False)"
   ]
  },
  {
   "cell_type": "code",
   "execution_count": 72,
   "metadata": {
    "scrolled": true
   },
   "outputs": [
    {
     "data": {
      "text/plain": [
       "{'water but all': 23.776361348942761,\n",
       " 'water but ill': 24.518058462968913,\n",
       " 'water but lay': 24.855560322018956,\n",
       " 'water but let': 26.028393999276108,\n",
       " 'water but lie': 25.923949134044111,\n",
       " 'water but look': 26.643307255400565}"
      ]
     },
     "execution_count": 72,
     "metadata": {},
     "output_type": "execute_result"
    }
   ],
   "source": [
    "noisy_channel('wtrbtl', big_lang_m, big_err_m, max_attempts=10000, optimism=0.9, freedom=3.0, verbose=False)"
   ]
  },
  {
   "cell_type": "code",
   "execution_count": 73,
   "metadata": {
    "scrolled": true
   },
   "outputs": [
    {
     "data": {
      "text/plain": [
       "{'basket ball': 33.517649054684213, 'basket bally': 36.033051768112955}"
      ]
     },
     "execution_count": 73,
     "metadata": {},
     "output_type": "execute_result"
    }
   ],
   "source": [
    "noisy_channel('bsktball', big_lang_m, big_err_m, max_attempts=10000, optimism=0.9, freedom=3.0, verbose=False)"
   ]
  },
  {
   "cell_type": "code",
   "execution_count": 74,
   "metadata": {},
   "outputs": [
    {
     "data": {
      "text/plain": [
       "{'bwling belia': 32.378558163686591,\n",
       " 'bwling bell': 33.682361899011241,\n",
       " 'bwling below': 32.120289072617965,\n",
       " 'bwling belt': 32.599942868359705,\n",
       " 'bwling black': 31.494881225779764,\n",
       " 'bwling bling': 32.999296621088767,\n",
       " 'bwling blow': 32.715238372605761,\n",
       " 'bwling blue': 30.743445363278987}"
      ]
     },
     "execution_count": 74,
     "metadata": {},
     "output_type": "execute_result"
    }
   ],
   "source": [
    "noisy_channel('bwlingbl', big_lang_m, big_err_m, max_attempts=10000, optimism=0.9, freedom=3.0, verbose=False)"
   ]
  },
  {
   "cell_type": "markdown",
   "metadata": {},
   "source": [
    "The model correctly recognized the words 'Sam', 'Frodo', and 'ring', and even managed 'basket ball' and 'water'. \n",
    "\n",
    "However, the words 'bottle' and 'bowling' were not so frequent in the training corpus, so the model failed to reconstruct them."
   ]
  },
  {
   "cell_type": "code",
   "execution_count": 80,
   "metadata": {},
   "outputs": [
    {
     "data": {
      "text/plain": [
       "{'battle horse': 24.843520593841927, 'battle horses': 27.122979205222297}"
      ]
     },
     "execution_count": 80,
     "metadata": {},
     "output_type": "execute_result"
    }
   ],
   "source": [
    "noisy_channel('batlhrse', big_lang_m, big_err_m, max_attempts=10000, optimism=0.9, freedom=3.0, verbose=False)"
   ]
  },
  {
   "cell_type": "markdown",
   "metadata": {},
   "source": [
    "However, with the relevant training corpus the sports words would be recognized."
   ]
  }
 ],
 "metadata": {
  "kernelspec": {
   "display_name": "Python 3",
   "language": "python",
   "name": "python3"
  },
  "language_info": {
   "codemirror_mode": {
    "name": "ipython",
    "version": 3
   },
   "file_extension": ".py",
   "mimetype": "text/x-python",
   "name": "python",
   "nbconvert_exporter": "python",
   "pygments_lexer": "ipython3",
   "version": "3.6.1"
  }
 },
 "nbformat": 4,
 "nbformat_minor": 2
}
