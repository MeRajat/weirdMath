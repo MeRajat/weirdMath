{
 "cells": [
  {
   "cell_type": "markdown",
   "metadata": {},
   "source": [
    "# Парето-оптимальность, Selenium и отели в Пекине"
   ]
  },
  {
   "cell_type": "markdown",
   "metadata": {},
   "source": [
    "Название [моего блога](https://vk.com/mat.chast) как бы намекает, что его содержание применимо в быту. К сегодняшнему блокноту это точно относится: он про выбор отелей. \n",
    "\n",
    "Моя подруга на новогодние праздники собралась в Пекин, и для этого решила выбрать отель. В Пекине их тысяча, и она ограничила поиск только пятизвёздочными. Но даже таких отелей там больше сотни, и из них хочется выбрать наилучший по соотношению цена-качество.\n",
    "\n",
    "Сколько можно заплатить за дополнительный балл оценки (она измеряет качество)? На этот вопрос ответ у каждого свой. Но чтобы не перебирать вручную 150 отелей, можно заставить алгоритм отобрать с десяток отелей, каждый из которых был бы лучшим в своей ценовой категории. В математике такие отели называются Парето-оптимальными.\n",
    "\n",
    "А раз уж мы всё равно пользуемся алгоритмом, почему бы не распарсить booking.com тоже полностью автоматически?\n",
    "\n",
    "Именно этому - парсингу booking.com и выбору оптимального отеля - и посвящён блокнот. "
   ]
  },
  {
   "cell_type": "markdown",
   "metadata": {
    "collapsed": true
   },
   "source": [
    "# Сбор данных при помощи Selenium"
   ]
  },
  {
   "cell_type": "markdown",
   "metadata": {},
   "source": [
    "Предполагается, что:\n",
    "* у вас установлены все необходимые питоновские пакеты. Если какой-то импорт не работает, зовите pip install\n",
    "* у вас установлен Firefox (если не хотите его ставить, попробуйте другой бразуер, но к нему нужен свой драйвер)\n",
    "* у вас есть geckodriver, скачанный отсюда https://github.com/mozilla/geckodriver/releases и распакованный\n",
    "* этот geckodriver находится в той же папке, что и блокнот (либо добавлен в PATH)\n",
    "\n",
    "Если вам лень заниматься всей этой технической частью, можете [скачать данные](https://github.com/avidale/weirdMath/blob/master/hotels.pkl) и сразу перейти к их анализу. "
   ]
  },
  {
   "cell_type": "markdown",
   "metadata": {},
   "source": [
    "Импортируем Селениум. Если эта ячейка выдаёт ошибку, вызовите pip install selenium в командной строке и перезапустите блокнот"
   ]
  },
  {
   "cell_type": "code",
   "execution_count": 1,
   "metadata": {
    "collapsed": true
   },
   "outputs": [],
   "source": [
    "from selenium import webdriver"
   ]
  },
  {
   "cell_type": "markdown",
   "metadata": {},
   "source": [
    "Запускаем браузер в управляемом режиме. "
   ]
  },
  {
   "cell_type": "code",
   "execution_count": 2,
   "metadata": {
    "collapsed": true
   },
   "outputs": [],
   "source": [
    "driver = webdriver.Firefox() "
   ]
  },
  {
   "cell_type": "markdown",
   "metadata": {},
   "source": [
    "Ниже - ссылка на запрос отеля в Пекине с ограничением на даты и звёздочки"
   ]
  },
  {
   "cell_type": "code",
   "execution_count": 3,
   "metadata": {
    "collapsed": true
   },
   "outputs": [],
   "source": [
    "url = \"https://www.booking.com/searchresults.ru.html?label=gen173nr-1FCAEoggJCAlhYSDNYBGjCAYgBAZgBIcIBCndpbmRvd3MgMTDIAQzYAQHoAQH4AQuSAgF5qAID&sid=6b8e3d83b69499330279412a904e1bd4&checkin_month=1&checkin_monthday=4&checkin_year=2018&checkout_month=1&checkout_monthday=11&checkout_year=2018&class_interval=1&dest_id=-1898541&dest_type=city&dtdisc=0&from_sf=1&group_adults=2&group_children=0&inac=0&index_postcard=0&label_click=undef&no_rooms=1&oos_flag=0&postcard=0&room1=A%2CA&sb_price_type=total&search_pageview_id=2f838df472d401ec&src=index&ss=Пекин&ss_all=0&ssb=empty&sshis=0&nflt=class%3D5%3B&lsf=class%7C5%7C124&unchecked_filter=class\""
   ]
  },
  {
   "cell_type": "markdown",
   "metadata": {},
   "source": [
    "Сейчас будет магия: открытый из кода браузер сам перейдёт по ссылке"
   ]
  },
  {
   "cell_type": "code",
   "execution_count": 4,
   "metadata": {
    "collapsed": true
   },
   "outputs": [],
   "source": [
    "driver.get(url)"
   ]
  },
  {
   "cell_type": "markdown",
   "metadata": {},
   "source": [
    "Напишем функцию, которая бы находила внутри блока с отелем его название, рейтинг и цену"
   ]
  },
  {
   "cell_type": "code",
   "execution_count": 5,
   "metadata": {
    "collapsed": true
   },
   "outputs": [],
   "source": [
    "def get_data_from_hotel(div):\n",
    "    name = div.find_elements_by_css_selector('span.sr-hotel__name')[0].text\n",
    "    \n",
    "    rating_elements =  div.find_elements_by_css_selector('span.review-score-badge')\n",
    "    if rating_elements:\n",
    "        rating = rating_elements[0].text\n",
    "    else:\n",
    "        rating = 0\n",
    "    \n",
    "    price_elements = price = div.find_elements_by_css_selector('strong.price')\n",
    "    if price_elements:\n",
    "        price = price_elements[0].text\n",
    "    else:\n",
    "        price = None\n",
    "    \n",
    "    hotel = {'name':name, 'price': price, 'rating': rating}\n",
    "    return hotel"
   ]
  },
  {
   "cell_type": "markdown",
   "metadata": {},
   "source": [
    "Теперь пройдёмся по всем 15 блокам с отелями и выкачаем цены. \n",
    "\n",
    "Для двух отелей цен нет: все комнаты уже забронировали."
   ]
  },
  {
   "cell_type": "code",
   "execution_count": 6,
   "metadata": {
    "collapsed": true
   },
   "outputs": [],
   "source": [
    "hotels = []"
   ]
  },
  {
   "cell_type": "code",
   "execution_count": 7,
   "metadata": {},
   "outputs": [
    {
     "name": "stdout",
     "output_type": "stream",
     "text": [
      "{'name': 'New World Beijing Hotel', 'price': '46 554 руб.', 'rating': '9,1'}\n",
      "{'name': 'DoubleTree by Hilton Beijing', 'price': '35 153 руб.', 'rating': '7,5'}\n",
      "{'name': 'Sofitel Wanda Beijing', 'price': '55 237 руб.', 'rating': '8,3'}\n",
      "{'name': 'Ascott Raffles City Beijing', 'price': '69 792 руб.', 'rating': '8,8'}\n",
      "{'name': 'Artyzen Habitat Dongzhimen Beijing', 'price': '43 488 руб.', 'rating': '8,5'}\n",
      "{'name': 'Crowne Plaza Beijing Lido', 'price': '61 820 руб.', 'rating': '8,4'}\n",
      "{'name': 'Hotel Éclat Beijing', 'price': '92 874 руб.', 'rating': '9,1'}\n",
      "{'name': \"W Beijing Chang'an\", 'price': '85 549 руб.', 'rating': '8,5'}\n",
      "{'name': 'Conrad Beijing', 'price': '57 686 руб.', 'rating': '8,4'}\n",
      "{'name': 'The Ritz-Carlton Beijing', 'price': '106 825 руб.', 'rating': '8,8'}\n",
      "{'name': 'DuGe Boutique Hotel', 'price': '50 307 руб.', 'rating': '7,9'}\n",
      "{'name': 'JW Marriott Hotel Beijing', 'price': '82 878 руб.', 'rating': '8,3'}\n",
      "{'name': 'Crowne Plaza Beijing Zhongguancun', 'price': '50 884 руб.', 'rating': '8,1'}\n",
      "{'name': 'Shangri-la Hotel Beijing', 'price': '54 753 руб.', 'rating': '8,1'}\n",
      "{'name': 'Shangri-La Kerry Hotel, Beijing', 'price': '77 893 руб.', 'rating': '9,0'}\n"
     ]
    }
   ],
   "source": [
    "for div in driver.find_elements_by_css_selector('div.sr_item'):\n",
    "    hotel = get_data_from_hotel(div)\n",
    "    print(hotel)\n",
    "    hotels.append(hotel)"
   ]
  },
  {
   "cell_type": "markdown",
   "metadata": {},
   "source": [
    "Теперь всё то же самое проделаем для следующих нескольких страниц с отелями. \n",
    "\n",
    "Для этого заставим браузер находить кнопку \"Следующая страница\", жамкать на неё самостоятельно, и ждать 3 секунды, пока отели подгрузятся. \n",
    "\n",
    "Заодно будем печатать, сколько отелей показано на странице. \n",
    "\n",
    "Если в какой-то момент кнопку не удастся найти, это значит, что все отели уже выкачаны. "
   ]
  },
  {
   "cell_type": "code",
   "execution_count": 8,
   "metadata": {},
   "outputs": [
    {
     "name": "stdout",
     "output_type": "stream",
     "text": [
      "Пекин: найдены 124 уникальных варианта жилья показаны 1 – 15\n",
      "Пекин: найдены 124 уникальных варианта жилья показаны 16 – 45\n",
      "Пекин: найдены 124 уникальных варианта жилья показаны 46 – 75\n",
      "Пекин: найдены 124 уникальных варианта жилья показаны 76 – 105\n",
      "Пекин: найдены 124 уникальных варианта жилья показаны 106 – 124\n"
     ]
    }
   ],
   "source": [
    "import time\n",
    "\n",
    "for page in range(100):\n",
    "    bottom = driver.find_elements_by_css_selector('div.results-meta')[0]\n",
    "    print(bottom.find_elements_by_css_selector('h4')[0].text)\n",
    "    buttons = driver.find_elements_by_css_selector('a.paging-next')\n",
    "    if buttons:\n",
    "        buttons[0].click()\n",
    "        time.sleep(3)\n",
    "        for div in driver.find_elements_by_css_selector('div.sr_item'):\n",
    "            hotel = get_data_from_hotel(div)\n",
    "            hotels.append(hotel)\n",
    "    else:\n",
    "        break"
   ]
  },
  {
   "cell_type": "markdown",
   "metadata": {},
   "source": [
    "Ура! Нам удалось выкачать все пятизвездочные отели в Пекине!"
   ]
  },
  {
   "cell_type": "code",
   "execution_count": 9,
   "metadata": {},
   "outputs": [
    {
     "name": "stdout",
     "output_type": "stream",
     "text": [
      "124\n"
     ]
    }
   ],
   "source": [
    "print(len(hotels))"
   ]
  },
  {
   "cell_type": "markdown",
   "metadata": {},
   "source": [
    "# Анализ данных"
   ]
  },
  {
   "cell_type": "markdown",
   "metadata": {},
   "source": [
    "Теперь, когда у нас есть данные по отелям, осталось визуализировать их и найти \"лучшие\" в каком-то смысле. "
   ]
  },
  {
   "cell_type": "markdown",
   "metadata": {},
   "source": [
    "Если вы не собирали данные Селениумом, самое время скачать их [отсюда](https://github.com/avidale/weirdMath/blob/master/hotels.pkl) и положить в ту же папку, что и блокнот. "
   ]
  },
  {
   "cell_type": "code",
   "execution_count": 12,
   "metadata": {},
   "outputs": [
    {
     "name": "stdout",
     "output_type": "stream",
     "text": [
      "Если вы собрали данные, пропустите эту ячейку. Иначе скачайте их и попробуйте снова.\n"
     ]
    }
   ],
   "source": [
    "import pickle\n",
    "try:\n",
    "    hotels = pickle.load(open('hotels.pkl', 'rb'))\n",
    "except FileNotFoundError:\n",
    "    print('Если вы собрали данные, пропустите эту ячейку. Иначе скачайте их и попробуйте снова.')"
   ]
  },
  {
   "cell_type": "markdown",
   "metadata": {},
   "source": [
    "Классический импорт библиотек"
   ]
  },
  {
   "cell_type": "code",
   "execution_count": 10,
   "metadata": {
    "collapsed": true
   },
   "outputs": [],
   "source": [
    "import pandas as pd\n",
    "import matplotlib.pyplot as plt\n",
    "%matplotlib inline"
   ]
  },
  {
   "cell_type": "markdown",
   "metadata": {},
   "source": [
    "Кладём данные в удобную таблицу pandas"
   ]
  },
  {
   "cell_type": "code",
   "execution_count": 13,
   "metadata": {},
   "outputs": [
    {
     "data": {
      "text/html": [
       "<div>\n",
       "<style>\n",
       "    .dataframe thead tr:only-child th {\n",
       "        text-align: right;\n",
       "    }\n",
       "\n",
       "    .dataframe thead th {\n",
       "        text-align: left;\n",
       "    }\n",
       "\n",
       "    .dataframe tbody tr th {\n",
       "        vertical-align: top;\n",
       "    }\n",
       "</style>\n",
       "<table border=\"1\" class=\"dataframe\">\n",
       "  <thead>\n",
       "    <tr style=\"text-align: right;\">\n",
       "      <th></th>\n",
       "      <th>name</th>\n",
       "      <th>price</th>\n",
       "      <th>rating</th>\n",
       "    </tr>\n",
       "  </thead>\n",
       "  <tbody>\n",
       "    <tr>\n",
       "      <th>0</th>\n",
       "      <td>New World Beijing Hotel</td>\n",
       "      <td>46 554 руб.</td>\n",
       "      <td>9,1</td>\n",
       "    </tr>\n",
       "    <tr>\n",
       "      <th>1</th>\n",
       "      <td>DoubleTree by Hilton Beijing</td>\n",
       "      <td>35 153 руб.</td>\n",
       "      <td>7,5</td>\n",
       "    </tr>\n",
       "    <tr>\n",
       "      <th>2</th>\n",
       "      <td>Sofitel Wanda Beijing</td>\n",
       "      <td>55 237 руб.</td>\n",
       "      <td>8,3</td>\n",
       "    </tr>\n",
       "    <tr>\n",
       "      <th>3</th>\n",
       "      <td>Ascott Raffles City Beijing</td>\n",
       "      <td>69 792 руб.</td>\n",
       "      <td>8,8</td>\n",
       "    </tr>\n",
       "    <tr>\n",
       "      <th>4</th>\n",
       "      <td>Artyzen Habitat Dongzhimen Beijing</td>\n",
       "      <td>43 488 руб.</td>\n",
       "      <td>8,5</td>\n",
       "    </tr>\n",
       "  </tbody>\n",
       "</table>\n",
       "</div>"
      ],
      "text/plain": [
       "                                 name        price rating\n",
       "0             New World Beijing Hotel  46 554 руб.    9,1\n",
       "1        DoubleTree by Hilton Beijing  35 153 руб.    7,5\n",
       "2               Sofitel Wanda Beijing  55 237 руб.    8,3\n",
       "3         Ascott Raffles City Beijing  69 792 руб.    8,8\n",
       "4  Artyzen Habitat Dongzhimen Beijing  43 488 руб.    8,5"
      ]
     },
     "execution_count": 13,
     "metadata": {},
     "output_type": "execute_result"
    }
   ],
   "source": [
    "data = pd.DataFrame(hotels)\n",
    "data.head()"
   ]
  },
  {
   "cell_type": "markdown",
   "metadata": {},
   "source": [
    "Сейчас цена и рейтинг - это текстовые строки. Превратим их в числа:"
   ]
  },
  {
   "cell_type": "code",
   "execution_count": 14,
   "metadata": {
    "collapsed": true
   },
   "outputs": [],
   "source": [
    "data.rating = data.rating.str.replace(',', '.').astype(float)\n",
    "data.price = data.price.str.replace('руб.', '').str.replace(' ', '').astype(float)"
   ]
  },
  {
   "cell_type": "markdown",
   "metadata": {},
   "source": [
    "Теперь данные можно визуализировать"
   ]
  },
  {
   "cell_type": "code",
   "execution_count": 15,
   "metadata": {},
   "outputs": [
    {
     "data": {
      "image/png": "[encoded data removed]",
      "text/plain": [
       "<matplotlib.figure.Figure at 0x24965e1f9e8>"
      ]
     },
     "metadata": {},
     "output_type": "display_data"
    }
   ],
   "source": [
    "plt.scatter(data.price, data.rating)\n",
    "plt.xlabel('Стоимость')\n",
    "plt.ylabel('Рейтинг')\n",
    "plt.title('Как и следовало ожидать, \\n у более дорогих отелей рейтинг в среднем выше');"
   ]
  },
  {
   "cell_type": "markdown",
   "metadata": {},
   "source": [
    "Теперь найдем Парето-оптимальные отели.\n",
    "\n",
    "Напомним, что отель называется Парето-оптимальным, если никакой другой отель его не доминирует. \n",
    "\n",
    "Мы говорим, что отель A доминирует Б, если A не хуже Б ни по цене, ни по качеству, и хотя бы по одному из параметров А строго лучше. "
   ]
  },
  {
   "cell_type": "code",
   "execution_count": 16,
   "metadata": {},
   "outputs": [
    {
     "data": {
      "text/html": [
       "<div>\n",
       "<style>\n",
       "    .dataframe thead tr:only-child th {\n",
       "        text-align: right;\n",
       "    }\n",
       "\n",
       "    .dataframe thead th {\n",
       "        text-align: left;\n",
       "    }\n",
       "\n",
       "    .dataframe tbody tr th {\n",
       "        vertical-align: top;\n",
       "    }\n",
       "</style>\n",
       "<table border=\"1\" class=\"dataframe\">\n",
       "  <thead>\n",
       "    <tr style=\"text-align: right;\">\n",
       "      <th></th>\n",
       "      <th>name</th>\n",
       "      <th>price</th>\n",
       "      <th>rating</th>\n",
       "    </tr>\n",
       "  </thead>\n",
       "  <tbody>\n",
       "    <tr>\n",
       "      <th>83</th>\n",
       "      <td>Jingtailong International Hotel</td>\n",
       "      <td>26985.0</td>\n",
       "      <td>7.6</td>\n",
       "    </tr>\n",
       "    <tr>\n",
       "      <th>18</th>\n",
       "      <td>Beijing Prime Hotel Wangfujing</td>\n",
       "      <td>30160.0</td>\n",
       "      <td>8.0</td>\n",
       "    </tr>\n",
       "    <tr>\n",
       "      <th>93</th>\n",
       "      <td>Beijing Qianyuan Hotel</td>\n",
       "      <td>37887.0</td>\n",
       "      <td>8.6</td>\n",
       "    </tr>\n",
       "    <tr>\n",
       "      <th>17</th>\n",
       "      <td>Beijing Hotel NUO Wangfujing</td>\n",
       "      <td>45401.0</td>\n",
       "      <td>8.7</td>\n",
       "    </tr>\n",
       "    <tr>\n",
       "      <th>0</th>\n",
       "      <td>New World Beijing Hotel</td>\n",
       "      <td>46554.0</td>\n",
       "      <td>9.1</td>\n",
       "    </tr>\n",
       "    <tr>\n",
       "      <th>52</th>\n",
       "      <td>Shichahai Sandalwood Boutique Hotel Beijing</td>\n",
       "      <td>58181.0</td>\n",
       "      <td>9.3</td>\n",
       "    </tr>\n",
       "    <tr>\n",
       "      <th>99</th>\n",
       "      <td>Zhaolin Grand Hotel</td>\n",
       "      <td>102196.0</td>\n",
       "      <td>9.4</td>\n",
       "    </tr>\n",
       "    <tr>\n",
       "      <th>57</th>\n",
       "      <td>Rosewood Beijing</td>\n",
       "      <td>123717.0</td>\n",
       "      <td>9.5</td>\n",
       "    </tr>\n",
       "  </tbody>\n",
       "</table>\n",
       "</div>"
      ],
      "text/plain": [
       "                                           name     price  rating\n",
       "83              Jingtailong International Hotel   26985.0     7.6\n",
       "18               Beijing Prime Hotel Wangfujing   30160.0     8.0\n",
       "93                       Beijing Qianyuan Hotel   37887.0     8.6\n",
       "17                 Beijing Hotel NUO Wangfujing   45401.0     8.7\n",
       "0                       New World Beijing Hotel   46554.0     9.1\n",
       "52  Shichahai Sandalwood Boutique Hotel Beijing   58181.0     9.3\n",
       "99                          Zhaolin Grand Hotel  102196.0     9.4\n",
       "57                             Rosewood Beijing  123717.0     9.5"
      ]
     },
     "execution_count": 16,
     "metadata": {},
     "output_type": "execute_result"
    }
   ],
   "source": [
    "optimal = []\n",
    "# проходим по списку всех отелей по возрастанию цены\n",
    "for idx, hotel in data.sort_values('price').iterrows():\n",
    "    # берём все отели, которые не хуже данного по цене и качеству\n",
    "    better = data[(data.price <= hotel.price) & (data.rating >= hotel.rating)]\n",
    "    # если ни один из них не строго лучше нашего, то наш - Парето-оптимальный\n",
    "    if better.price.min() == hotel.price and better.rating.max() == hotel.rating:\n",
    "        optimal.append(hotel)\n",
    "optimal = pd.DataFrame(optimal)\n",
    "optimal"
   ]
  },
  {
   "cell_type": "markdown",
   "metadata": {},
   "source": [
    "Именно эти 8 отелей обеспечивают лучшее соотношение цена-качество. \n",
    "\n",
    "Все остальные отели хуже какого-либо из Парето-оптимальных или по цене, или по качеству, или по тому и другому. "
   ]
  },
  {
   "cell_type": "code",
   "execution_count": 24,
   "metadata": {},
   "outputs": [
    {
     "data": {
      "image/png": "[encoded data removed]",
      "text/plain": [
       "<matplotlib.figure.Figure at 0x249681b9f60>"
      ]
     },
     "metadata": {},
     "output_type": "display_data"
    }
   ],
   "source": [
    "plt.scatter(data.price, data.rating, s=5);\n",
    "plt.plot(optimal.price, optimal.rating, color = 'red')\n",
    "plt.xlabel('Стоимость')\n",
    "plt.ylabel('Рейтинг')\n",
    "plt.title('Парето-граница - это 8 отелей \\n с наилучшим соотношением цена/качество');\n",
    "plt.text(100000, 7, 'А нашли мы их, распарсив booking.com!');"
   ]
  },
  {
   "cell_type": "markdown",
   "metadata": {},
   "source": [
    "Напоследок сохраним данные, чтобы этот блокнот стал воспроизводим. "
   ]
  },
  {
   "cell_type": "code",
   "execution_count": 18,
   "metadata": {
    "collapsed": true
   },
   "outputs": [],
   "source": [
    "import pickle\n",
    "pickle.dump(hotels, open('hotels.pkl', 'wb'))"
   ]
  },
  {
   "cell_type": "markdown",
   "metadata": {},
   "source": [
    "Удачного вам парсинга, оптимизации, и, конечно, новогодних праздников! До встречи :)"
   ]
  }
 ],
 "metadata": {
  "kernelspec": {
   "display_name": "Python 3",
   "language": "python",
   "name": "python3"
  },
  "language_info": {
   "codemirror_mode": {
    "name": "ipython",
    "version": 3
   },
   "file_extension": ".py",
   "mimetype": "text/x-python",
   "name": "python",
   "nbconvert_exporter": "python",
   "pygments_lexer": "ipython3",
   "version": "3.6.1"
  }
 },
 "nbformat": 4,
 "nbformat_minor": 2
}
